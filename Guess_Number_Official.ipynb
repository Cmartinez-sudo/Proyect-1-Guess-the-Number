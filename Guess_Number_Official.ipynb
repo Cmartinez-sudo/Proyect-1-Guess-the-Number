{
 "cells": [
  {
   "cell_type": "code",
   "execution_count": 1,
   "metadata": {},
   "outputs": [],
   "source": [
    "#Define a function to ask#\n",
    "def ask_name():\n",
    "    '''Ask name of the user'''\n",
    "    player_name = (input(\"Hello! What is your name? \"))\n",
    "    return player_name"
   ]
  },
  {
   "cell_type": "code",
   "execution_count": 2,
   "metadata": {},
   "outputs": [],
   "source": [
    "#Define a function to greet#\n",
    "def greet_player(n):\n",
    "    '''Greet and ask user'''\n",
    "    play = (input(\"Well, \" + n + \", think you can a guess a number between 1 and 30 in eight tries? Enter: Yes or No? \"))\n",
    "    return play"
   ]
  },
  {
   "cell_type": "code",
   "execution_count": 3,
   "metadata": {},
   "outputs": [],
   "source": [
    "#Define a function to run the game#\n",
    "def start_game(f, n):\n",
    "    '''Runs the game with returns from other functions'''\n",
    "    import random\n",
    "    winner = random.randint(1, 30)\n",
    "    number_of_guesses = 0\n",
    "    if f == \"No\":\n",
    "        print(\"well, I guess it's not for everyone... bye!\")\n",
    "    elif f == \"Yes\":\n",
    "        while number_of_guesses < 8:\n",
    "            guess = input(\"Guess the number: \")\n",
    "            guess = int(guess)\n",
    "            \n",
    "            number_of_guesses = number_of_guesses + 1\n",
    "            \n",
    "            if guess < winner - 5:\n",
    "                print(\"Your guess was too low! Try again \")\n",
    "            elif guess > winner + 5:\n",
    "                print(\"Your guess was too high! Try again \")\n",
    "            elif guess < winner:\n",
    "                print(\"Getting warm but still low! Try again \")\n",
    "            elif guess > winner :\n",
    "                print(\"Getting warm but still high! Try again \")\n",
    "            elif guess == winner:\n",
    "                print(\"Yes! \")\n",
    "                break\n",
    "    \n",
    "        if guess == winner:\n",
    "            print(\"Nice \" + n + \"! You've guessed the number in \" + str(number_of_guesses) + \" guesses.\")\n",
    "        elif guess != winner:\n",
    "            print(\"Sorry \" + n + \"... you did not guess the number. The correct number was \" + str(winner))\n",
    "    \n",
    "    play_again = input(\"Would you like to play again? Yes or No? \")\n",
    "    return play_again\n",
    "                \n",
    "            "
   ]
  },
  {
   "cell_type": "code",
   "execution_count": 4,
   "metadata": {},
   "outputs": [],
   "source": [
    "def play_true(p, name, m):\n",
    "    if m == \"No\":\n",
    "        print(\"Ok, bye!\")\n",
    "    elif m == \"Yes\":\n",
    "        start_game(p, name)\n"
   ]
  },
  {
   "cell_type": "code",
   "execution_count": 5,
   "metadata": {},
   "outputs": [],
   "source": [
    "#Define the main function#\n",
    "def main():\n",
    "    '''Groups all the functions'''\n",
    "    name = ask_name()\n",
    "    p = greet_player(name)\n",
    "    m = start_game(p, name)\n",
    "    play_true(p, name, m)"
   ]
  },
  {
   "cell_type": "code",
   "execution_count": 1,
   "metadata": {},
   "outputs": [],
   "source": [
    "#Run the main function#"
   ]
  },
  {
   "cell_type": "code",
   "execution_count": null,
   "metadata": {},
   "outputs": [],
   "source": []
  },
  {
   "cell_type": "code",
   "execution_count": null,
   "metadata": {},
   "outputs": [],
   "source": []
  }
 ],
 "metadata": {
  "kernelspec": {
   "display_name": "Python 3",
   "language": "python",
   "name": "python3"
  },
  "language_info": {
   "codemirror_mode": {
    "name": "ipython",
    "version": 3
   },
   "file_extension": ".py",
   "mimetype": "text/x-python",
   "name": "python",
   "nbconvert_exporter": "python",
   "pygments_lexer": "ipython3",
   "version": "3.8.3"
  },
  "toc": {
   "base_numbering": 1,
   "nav_menu": {},
   "number_sections": true,
   "sideBar": true,
   "skip_h1_title": false,
   "title_cell": "Table of Contents",
   "title_sidebar": "Contents",
   "toc_cell": false,
   "toc_position": {},
   "toc_section_display": true,
   "toc_window_display": false
  },
  "varInspector": {
   "cols": {
    "lenName": 16,
    "lenType": 16,
    "lenVar": 40
   },
   "kernels_config": {
    "python": {
     "delete_cmd_postfix": "",
     "delete_cmd_prefix": "del ",
     "library": "var_list.py",
     "varRefreshCmd": "print(var_dic_list())"
    },
    "r": {
     "delete_cmd_postfix": ") ",
     "delete_cmd_prefix": "rm(",
     "library": "var_list.r",
     "varRefreshCmd": "cat(var_dic_list()) "
    }
   },
   "types_to_exclude": [
    "module",
    "function",
    "builtin_function_or_method",
    "instance",
    "_Feature"
   ],
   "window_display": false
  }
 },
 "nbformat": 4,
 "nbformat_minor": 4
}
